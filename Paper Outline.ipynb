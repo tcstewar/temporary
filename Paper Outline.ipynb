{
 "metadata": {
  "name": ""
 },
 "nbformat": 3,
 "nbformat_minor": 0,
 "worksheets": [
  {
   "cells": [
    {
     "cell_type": "markdown",
     "metadata": {},
     "source": [
      "# Energy-efficient neuromorphic nonlinear adaptive control"
     ]
    },
    {
     "cell_type": "markdown",
     "metadata": {},
     "source": [
      "## Abstract\n",
      "\n",
      "We present a neurally inspired control system that adapts to unknown dynamics and unknown kinematics.  This control system is an adaptation of Cheah, Liu, and Slotine (2005) adaptive tracking control, adjusted to allow for extremely power-efficient implementation using analog neuromorphic hardware.  We demonstrate the performance of the algorithm in simulation and in a physical instantiation.  Furthermore, we show that the components of the algorithm can be implemented in extremely noisy, low-power, sub-threshold logic."
     ]
    },
    {
     "cell_type": "markdown",
     "metadata": {},
     "source": [
      "## Introduction\n",
      "\n",
      "- Control algorithms need to deal with changing plants\n",
      "    - Sudden changes like dealing with changes in weight, air friction (wind)\n",
      "    - Gradual changes like changing motor characteristics, or length of limbs (for people, anyway)\n",
      "- Not worrying about optimal control\n",
      "- Need something that will work, and work quickly\n",
      "- We also want something that is always on and always adapting, but doesn't cause excessive power draw\n",
      "    - Data from quadcopters on how much power is used for control versus flight"
     ]
    },
    {
     "cell_type": "markdown",
     "metadata": {},
     "source": [
      "## Adaptive Tracking Control\n",
      "\n",
      "- Dynamics:\n",
      "    - $ s = {K_p} (q_d-q) + K_v {d \\over {dt}} (q_d-q) $\n",
      "    - $\\tau = s + Y_d \\theta_d   $\n",
      "    - $\\Delta\\theta_d = L_d Y_d^T s$\n",
      "    - Learns an additive term onto the control signal that compensates\n",
      "- Kinematics:\n",
      "    - $s = {K_p} J^T (x_d-x) - K_v \\dot{q}$\n",
      "    - $ \\dot{x} = J(q,\\theta_k)\\dot{q} = Y_k(q, \\dot{q})\\theta_k  $\n",
      "    - $ \\Delta{\\theta}_k = L_k Y_k^T K_p (x_d - x) $\n",
      "    \n",
      "- These work over some pre-defined basis spaces $\\theta_k$ and $\\theta_d$.  To be completely general, we can use some large basis space like gaussian networks (Sanner & Slotine, 1992)."
     ]
    },
    {
     "cell_type": "markdown",
     "metadata": {},
     "source": [
      "## Neuromorphic control\n",
      "\n",
      "- Neurons can be thought of as defining a basis space \n",
      "    - this is the basic assumption behind the idea of population codes and the NEF\n",
      "- Every group of neurons represents a value in some space\n",
      "- The activity of an individual neuron is some function of the state being represented\n",
      "    - This can be any function, as long as there is a large degree of heterogeneity across the neurons\n",
      "    - For example, $a_i = G_i[\\alpha_i e_i \\cdot x + \\beta]$ where $a$ is the activity, $G_i$ is the response function (such as $tanh$), $\\alpha$ is a random scalar gain, $e_i$ is the \"preferred\" state for this neuron (the one for which it is most active), $x$ is the state beign represented, and $\\beta$ is a random scalar bais. \n",
      "    - This has been used to map to a wide variety of biological systems (e.g. Spaun)\n",
      "    - Recovering the original value from this basis space can be done extremely robustly with just $\\hat{x}=\\sum_i(a_i d_i)$\n",
      "    - Works well with extremely noisy response functions $G_i$ (including even huge nonlinearities like spiking)\n",
      "- We can recast the adaptive tracking control this way\n",
      "    - $Y_d$ and $Y_k$ can be the neural activities\n",
      "    - $\\theta_d$ and $\\theta_k$ are connection weights out of those neurons\n",
      "    - the learning rules adjust the connection weights\n",
      "- To do this, we need to change $Y_d$ and $Y_k$ to be vectors rather than matrices (and $\\theta_d$ and $\\theta_k$ become matrices instead of vectors -- or possibly tensors)\n",
      "    - and the learning rules become a bit different too\n"
     ]
    },
    {
     "cell_type": "markdown",
     "metadata": {},
     "source": [
      "## Experiments\n",
      "\n",
      "- Simulation of 3-joint arm moving to a point\n",
      "- Tracking (?)\n",
      "    - note: do we need to also bring in all the further details needed to do tracking right?  Or is that too much to add in to this paper?\n",
      "- Shadow control (because I really like that example)\n",
      "- control in a physical arm too\n",
      "    - assuming we get the arm working soon -- in theory the parts we've been waiting for have just been shipped!\n",
      "    - If the arm works well, maybe do all the examples with a physical arm and ignore simulation\n",
      "    - Are there things it's easier to explore in simulation?"
     ]
    },
    {
     "cell_type": "markdown",
     "metadata": {},
     "source": [
      "## Neuromorphic hardware\n",
      "\n",
      "- Energy costs of implementing this algorithm on typical hardware\n",
      "    - lots of \"neurons\" in order to get a wide range of basis functions\n",
      "    - CPU (using our OpenCL implementation)\n",
      "- What about on GPUs?\n",
      "    - (also using our OpenCL implementation)\n",
      "- But maybe efficient on modern massively parallel energy efficient hardware\n",
      "    - SpiNNaker\n",
      "    - Many ARM cores with parallel communication \n",
      "- The whole point of the algorithm is that it works with large numbers of very noisy components\n",
      "    - So let's do that\n",
      "    - People working on custom chips that use extremely small transistor sizes\n",
      "        - Transistor mismatch gives us the hetereogenity we need!\n",
      "        - Subthreshold analog electronics\n",
      "        - Stanford, Zurich, etc.\n",
      "    - try this algorithm on Neurogrid\n",
      "        - warning: the current version of Neurogrid doesn't support online changing of connection weights\n",
      "        - but we should still be able to show the energy savings\n",
      "- other options\n",
      "    - Hassler's FPAAs\n",
      "    - FPGAs?\n",
      "    \n",
      "    \n",
      "        "
     ]
    },
    {
     "cell_type": "markdown",
     "metadata": {},
     "source": [
      "## Discussion\n",
      "\n",
      "- What is this useful for?\n",
      "- Always-on adaptive robotics applications\n",
      "- Constantly adjusting control to get deal with changes to the environment/plant\n",
      "- Compare to optimal control\n",
      "    - Sure, it's not optimal, but optimal doesn't adjust to the new situation\n"
     ]
    },
    {
     "cell_type": "code",
     "collapsed": false,
     "input": [],
     "language": "python",
     "metadata": {},
     "outputs": []
    }
   ],
   "metadata": {}
  }
 ]
}