{
 "metadata": {
  "name": ""
 },
 "nbformat": 3,
 "nbformat_minor": 0,
 "worksheets": [
  {
   "cells": [
    {
     "cell_type": "markdown",
     "metadata": {
      "slideshow": {
       "slide_type": "-"
      }
     },
     "source": [
      "# Adaptive Motor Control\n",
      "\n",
      "### (what to do when you don't know what you're controlling or how to do it)\n",
      "\n",
      "Output from controller: $\\tau$ (e.g. torque at each joint)\n",
      "\n",
      "Value you want to control: $x$ (e.g. hand position)\n",
      "\n",
      "Sensors: $x$, $q$, $\\dot{q}$ (e.g. hand position, joint angle, joint velocity)\n",
      "\n",
      "So, we want an algorithm that will give us a $\\tau$ value that will cause $x$ to move towards some desired value $x_d$.  And we want this to work without having to hard-code information about the motor system itself -- it has to learn that.  This means it should be able to adapt when the motor system changes (different loads, motors wearing down, damage, growth, etc.)\n",
      "\n",
      "Note that we are not going to worry about being optimal!  We just want something that'll get us to the target."
     ]
    },
    {
     "cell_type": "markdown",
     "metadata": {
      "slideshow": {
       "slide_type": "-"
      }
     },
     "source": [
      "## Example motor system: 2-dof arm\n",
      "\n",
      "To experiment with this system, we'll go with a simple two-joint arm under gravity.  The parameters for this physics model were stolen from http://lendek.net/files/papers/sangeetha-fuzzie312.pdf \n",
      "\n",
      "\n"
     ]
    },
    {
     "cell_type": "code",
     "collapsed": false,
     "input": [
      "from arm import Arm\n",
      "from runner import Runner\n",
      "from control2 import *"
     ],
     "language": "python",
     "metadata": {
      "slideshow": {
       "slide_type": "-"
      }
     },
     "outputs": [],
     "prompt_number": 1
    },
    {
     "cell_type": "code",
     "collapsed": false,
     "input": [
      "arm = Arm(gravity=1)\n",
      "runner = Runner('No control', dt=0.0001, display_steps=200)\n",
      "runner.run(arm, None)\n",
      "runner.show()"
     ],
     "language": "python",
     "metadata": {},
     "outputs": [],
     "prompt_number": 3
    },
    {
     "cell_type": "markdown",
     "metadata": {},
     "source": [
      "Or we can try that with no joint friction"
     ]
    },
    {
     "cell_type": "code",
     "collapsed": false,
     "input": [
      "arm = Arm(gravity=1, b1=0, b2=0)\n",
      "runner = Runner('No control', dt=0.0001, display_steps=20)\n",
      "runner.run(arm, None)\n",
      "runner.show()"
     ],
     "language": "python",
     "metadata": {},
     "outputs": [],
     "prompt_number": 4
    },
    {
     "cell_type": "markdown",
     "metadata": {},
     "source": [
      "## Step 1: A proportional controller\n",
      "\n",
      "Let's start by ridiculously simplifying the problem.  Let's say that we\n",
      "have some magic way of getting $q_d$, the desired angles of our joints. \n",
      "Now we just have to apply torque in the right direction to drive $q$ towards\n",
      "$q_d$.  \n",
      "\n",
      "The simplest approach here is to do this control system:\n",
      "\n",
      "$$\n",
      "\\tau = K_p (q_d - q)\n",
      "$$\n",
      "\n",
      "This is known as a proportional (P) controller."
     ]
    },
    {
     "cell_type": "code",
     "collapsed": false,
     "input": [
      "arm = Arm(gravity=0)\n",
      "runner = Runner('Proportional control', dt=0.0001)\n",
      "control = Control(K_p=5)\n",
      "runner.run(arm, control)\n",
      "runner.show()"
     ],
     "language": "python",
     "metadata": {},
     "outputs": [],
     "prompt_number": 13
    },
    {
     "cell_type": "markdown",
     "metadata": {},
     "source": [
      "This seems to work okay, until we turn gravity back on"
     ]
    },
    {
     "cell_type": "code",
     "collapsed": false,
     "input": [
      "arm = Arm(gravity=1)\n",
      "runner = Runner('Proportional control', dt=0.0001)\n",
      "control = Control(K_p=5)\n",
      "runner.run(arm, control)\n",
      "runner.show()"
     ],
     "language": "python",
     "metadata": {},
     "outputs": [],
     "prompt_number": 14
    },
    {
     "cell_type": "markdown",
     "metadata": {},
     "source": [
      "We can try to get it to work harder against gravity by cranking up \n",
      "the gain $K_p$."
     ]
    },
    {
     "cell_type": "code",
     "collapsed": false,
     "input": [
      "arm = Arm(gravity=1)\n",
      "runner = Runner('Proportional control', dt=0.0001)\n",
      "control = Control(K_p=500)\n",
      "runner.run(arm, control)\n",
      "runner.show()"
     ],
     "language": "python",
     "metadata": {},
     "outputs": [],
     "prompt_number": 15
    },
    {
     "cell_type": "markdown",
     "metadata": {},
     "source": [
      "## Step 2: A PD controller\n",
      "\n",
      "How do we improve on a proportional controller and get rid of that oscillatory\n",
      "oscillatory overshoot?  The standard way is to introduce a derivative term, \n",
      "making it a PD controller\n",
      "\n",
      "$$\n",
      "\\tau = K_p (q_d - q) + K_v {d \\over {dt}}(q_d - q)\n",
      "$$\n"
     ]
    },
    {
     "cell_type": "code",
     "collapsed": false,
     "input": [
      "arm = Arm(gravity=1)\n",
      "runner = Runner('PD control', dt=0.0001)\n",
      "control = Control(K_p=500, K_v=1)\n",
      "runner.run(arm, control)\n",
      "runner.show()"
     ],
     "language": "python",
     "metadata": {},
     "outputs": [],
     "prompt_number": 17
    },
    {
     "cell_type": "markdown",
     "metadata": {},
     "source": [
      "This helps a bit with the oscillation, but doesn't help with the \n",
      "error due to gravity issue at all."
     ]
    },
    {
     "cell_type": "markdown",
     "metadata": {},
     "source": [
      "## Step 3: A PID Controller\n",
      "\n",
      "Of course, it's now natural to try this with a full PID controller\n",
      "\n",
      "$$\n",
      "\\tau = K_p (q_d - q) + K_v {d \\over {dt}}(q_d - q) + K_i \\int (q_d - q)dt\n",
      "$$\n"
     ]
    },
    {
     "cell_type": "code",
     "collapsed": false,
     "input": [
      "arm = Arm(gravity=1)\n",
      "runner = Runner('PID control', dt=0.0001)\n",
      "control = Control(K_p=500, K_v=1, K_i=1000)\n",
      "runner.run(arm, control)\n",
      "runner.show()"
     ],
     "language": "python",
     "metadata": {},
     "outputs": [],
     "prompt_number": 19
    },
    {
     "cell_type": "markdown",
     "metadata": {},
     "source": [
      "Well, it does work now, in that it gets to the target. But it does this by missing and then slowly getting there.\n",
      "\n",
      "What if we increase $K_i$?"
     ]
    },
    {
     "cell_type": "code",
     "collapsed": false,
     "input": [
      "arm = Arm(gravity=1)\n",
      "runner = Runner('PID control', dt=0.0001)\n",
      "control = Control(K_p=500, K_v=1, K_i=10000)\n",
      "runner.run(arm, control)\n",
      "runner.show()"
     ],
     "language": "python",
     "metadata": {},
     "outputs": [],
     "prompt_number": 20
    },
    {
     "cell_type": "markdown",
     "metadata": {},
     "source": [
      "Now it gets there faster, but there's insane movement when the target changes.\n",
      "\n",
      "Is there a more intelligent way to compensate for the effects of gravity?"
     ]
    },
    {
     "cell_type": "markdown",
     "metadata": {},
     "source": [
      "## Step 4: Subtract gravity\n",
      "\n",
      "What if we exactly knew what the effects of gravity were?  We could adjust the torque accordingly.  For this arm model, the effects of gravity are:\n",
      "\n",
      "$$\n",
      "\\tau_d = \\begin{bmatrix} g (m_1+m_2){l_1 \\over 2} cos(q_0) &&\n",
      "                g (m_2){l_2 \\over 2} cos(q_0+q_1) \\end{bmatrix}\n",
      "$$\n",
      "\n",
      "That works great, but it's cheating"
     ]
    },
    {
     "cell_type": "code",
     "collapsed": false,
     "input": [
      "arm = Arm(gravity=1)\n",
      "runner = Runner('PD control (subtract gravity)', dt=0.0001)\n",
      "control = Control(K_p=50, K_v=0.5, dynamics=DynIdeal())\n",
      "runner.run(arm, control)\n",
      "runner.show()"
     ],
     "language": "python",
     "metadata": {},
     "outputs": [],
     "prompt_number": 21
    },
    {
     "cell_type": "markdown",
     "metadata": {},
     "source": [
      "## Step 5: Learning the constants\n",
      "\n",
      "Let's make this less like cheating.  Let's say we know the form of the gravity effect, but we don't know the constants.\n",
      "\n",
      "$$\n",
      "\\tau_d = Y_d \\theta_d\n",
      "$$\n",
      "\n",
      "$\n",
      "Y_d = \\begin{bmatrix}\n",
      "    cos(q_0) &&  0  \\\\\\ \n",
      "    0        &&  cos(q_0+q_1)\\end{bmatrix},\n",
      "\\theta_d = \\begin{bmatrix}\n",
      "    (m_1+m_2) g {l_1 \\over 2} \\\\\\\n",
      "m_2 g {l_2 \\over 2} \\end{bmatrix}\n",
      "$\n",
      "\n",
      "\n",
      "Now if we start with $\\theta_d$ = 0, we need some sort of learning rule that will send us towards the correct value.\n",
      "\n",
      "According to this paper http://web.mit.edu/nsl/www/preprints/adaptive_Jacobian.pdf, here's a control law and learning rule that's guaranteed to converge: to the desired $q_d$.\n",
      "\n",
      "$ s = {K_p} (q_d-q) + K_v {d \\over {dt}} (q_d-q) $\n",
      "\n",
      "$\\tau = s + Y_d \\theta_d   $\n",
      "\n",
      "$\\Delta\\theta_d = L_d Y_d^T s$ (where $L_d$ is a learning rate parameter)\n",
      "\n",
      "The idea here is to adjust $\\theta_d$ based on what should be happening in an ideal situation where there is nothing else affecting motion except the control signal."
     ]
    },
    {
     "cell_type": "code",
     "collapsed": false,
     "input": [
      "arm = Arm(gravity=1)\n",
      "runner = Runner('PD control with adaptive dynamics', dt=0.0001)\n",
      "control = Control(K_p=50, K_v=0.5, dynamics=Dyn2DOFStandard(L_d=1))\n",
      "runner.run(arm, control)\n",
      "runner.show()"
     ],
     "language": "python",
     "metadata": {},
     "outputs": [],
     "prompt_number": 37
    },
    {
     "cell_type": "markdown",
     "metadata": {},
     "source": [
      "\n",
      "Here's an alternate form that I like a bit better.  This also seems to work, but it's not the one in the paper:\n",
      "\n",
      "$\n",
      "Y_d = \\begin{bmatrix}\n",
      "    cos(q_0) && \n",
      "    cos(q_0+q_1)\\end{bmatrix} \\\\\\\n",
      "\\theta_d = \\begin{bmatrix}\n",
      "    g(m_1+m_2) {l_1 \\over 2} && 0 \\\\\\\n",
      "    0 && g m_2 {l_2 \\over 2} \\end{bmatrix}\n",
      "$\n",
      "\n",
      "$ \\Delta \\theta_d = L_d Y_d \\times s $\n",
      "\n",
      "\n",
      "I like my form better (for reasons that may become apparent below)"
     ]
    },
    {
     "cell_type": "code",
     "collapsed": false,
     "input": [
      "arm = Arm(gravity=1)\n",
      "runner = Runner('PD control with adaptive dynamics', dt=0.0001)\n",
      "control = Control(K_p=50, K_v=0.5, dynamics=Dyn2DOFAlternate(L_d=1))\n",
      "runner.run(arm, control)\n",
      "runner.show()"
     ],
     "language": "python",
     "metadata": {},
     "outputs": [
      {
       "output_type": "stream",
       "stream": "stderr",
       "text": [
        "Exception in Tkinter callback\n",
        "Traceback (most recent call last):\n",
        "  File \"C:\\Python27\\lib\\lib-tk\\Tkinter.py\", line 1470, in __call__\n",
        "    return self.func(*args)\n",
        "  File \"C:\\Python27\\lib\\lib-tk\\Tkinter.py\", line 531, in callit\n",
        "    func(*args)\n",
        "  File \"C:\\Python27\\lib\\site-packages\\matplotlib\\backends\\backend_tkagg.py\", line 141, in _on_timer\n",
        "    TimerBase._on_timer(self)\n",
        "  File \"C:\\Python27\\lib\\site-packages\\matplotlib\\backend_bases.py\", line 1203, in _on_timer\n",
        "    ret = func(*args, **kwargs)\n",
        "  File \"C:\\Python27\\lib\\site-packages\\matplotlib\\animation.py\", line 876, in _step\n",
        "    still_going = Animation._step(self, *args)\n",
        "  File \"C:\\Python27\\lib\\site-packages\\matplotlib\\animation.py\", line 735, in _step\n",
        "    self._draw_next_frame(framedata, self._blit)\n",
        "  File \"C:\\Python27\\lib\\site-packages\\matplotlib\\animation.py\", line 754, in _draw_next_frame\n",
        "    self._draw_frame(framedata)\n",
        "  File \"C:\\Python27\\lib\\site-packages\\matplotlib\\animation.py\", line 1049, in _draw_frame\n",
        "    self._drawn_artists = self._func(framedata, *self._args)\n",
        "  File \"runner.py\", line 113, in anim_animate\n",
        "    tau = self.control.control(self.arm, self.x_d, self.q_d, self.dt*self.control_steps)\n",
        "  File \"control2.py\", line 96, in control\n",
        "    torque = self.dynamics.torque(arm, torque, dt)\n",
        "AttributeError: Dyn2DOFAlternate instance has no attribute 'torque'\n"
       ]
      }
     ],
     "prompt_number": 2
    },
    {
     "cell_type": "markdown",
     "metadata": {},
     "source": [
      "Sweet.  That works pretty well.\n",
      "\n",
      "As a small tweak, we can note that the learned $\\theta_d$ value makes sudden jumps when the target changes.  We could play around with stopping learning for that time step, or we can do something simpler:  put a low-pass filter on $q_d$."
     ]
    },
    {
     "cell_type": "code",
     "collapsed": false,
     "input": [
      "arm = Arm(gravity=1)\n",
      "runner = Runner('PD control with adaptive dynamics', dt=0.0001)\n",
      "control = Control(K_p=50, K_v=0.5, mode='PD+dynamics', tau_d=0.02)\n",
      "runner.run(arm, control)\n",
      "runner.show()"
     ],
     "language": "python",
     "metadata": {},
     "outputs": [],
     "prompt_number": 31
    },
    {
     "cell_type": "markdown",
     "metadata": {},
     "source": [
      "Very nice."
     ]
    },
    {
     "cell_type": "markdown",
     "metadata": {},
     "source": [
      "## Step 6: Generalizing dynamics\n",
      "\n",
      "So that works great if we know the form of the other influences on $\\tau$.  However, what if we don't know them?  After all, there's more than jsut gravity actually affecting the movement of the system -- inertia is also having an effect.  And what if it's a weird shape that it's a pain to characterize?\n",
      "\n",
      "What we need is a set of functions $Y_d$ that can be linearly combined together using $\\theta_d$ to approximate the unknown function $\\tau_d(q)$.\n",
      "\n",
      "This sounds kinda familiar.\n",
      "\n",
      "Let's randomly generate a bunch of functions of the form $G[\\alpha_i e_i \\cdot q + J_{bias}]$ and use those for $Y_d$."
     ]
    },
    {
     "cell_type": "code",
     "collapsed": false,
     "input": [
      "arm = Arm(gravity=1)\n",
      "runner = Runner('PD control with adaptive dynamics', dt=0.0001)\n",
      "control = Control(K_p=50, K_v=0.5, L_d=0.02, mode='PD+dynamics', \n",
      "                  tau_d=0.02, neurons_d=200)\n",
      "runner.run(arm, control)\n",
      "runner.show()"
     ],
     "language": "python",
     "metadata": {},
     "outputs": [],
     "prompt_number": 32
    },
    {
     "cell_type": "markdown",
     "metadata": {},
     "source": [
      "Sweet.  \n",
      "\n",
      "So, in neural terms, $Y_d$ is the activities of a group of neurons representing $q$.  $\\theta_d$ is the decoder from those neurons that will approximate all the aspects of the movement that we aren't controlling, giving a value to add to our $\\tau$ output.\n",
      "\n",
      "Furthermore, the learning rule is exactly the sort of learning rule we've been looking at for the NEF.  The change to the decoder is proportional to the activity of the pre-synaptic neuron, times $s$, a value represented by some other population (the desired simple PD controller signal). "
     ]
    },
    {
     "cell_type": "markdown",
     "metadata": {},
     "source": [
      "## Step 7: Kinematics\n",
      "\n",
      "Okay, that's kinda cool.  But we're not there yet.  After all, we've been giving this system a target $q_d$, but what we actually want to do is give it $x_d$, where there's some arbitrary unknown mapping between $x_d$ and $q_d$.\n",
      "\n",
      "The standard way of talking about this relationship is the Jacobian $J$.\n",
      "\n",
      "$$\n",
      "\\dot{x} = J \\dot{q}\n",
      "$$\n",
      "\n",
      "Of course, even for the simple arm, the Jacobian is nasty:\n",
      "\n",
      "$$\n",
      "J = \\begin{bmatrix}\n",
      "-sin(q_0)l_1-sin(q_0+q_1)l_2   && -sin(q_0+q_1)l_2 \\\\\\\n",
      " cos(q_0)l_1+cos(q_0+q_1)l_2   &&  cos(q_0+q_1)l_2\n",
      "\\end{bmatrix} \n",
      "$$\n",
      "\n",
      "But, let's assue that we have that computed somehow.  Now we can change our control rule slightly.\n",
      "\n",
      "Original rule: $s = {K_p} (q_d-q) + K_v {d \\over {dt}} (q_d-q)$\n",
      "\n",
      "Simplifying: $s = {K_p} (q_d-q) - K_v \\dot{q}$\n",
      "\n",
      "We don't have $q_d - q$.  But we do have $x_d - x$.  Let's use the Jacobian, and the approximation \n",
      "\n",
      "$(q_d - q) \\approx \\alpha J^T (x_d - x)$\n",
      "\n",
      "Now, rolling $\\alpha$ into $K_p$, our control rule is\n",
      "\n",
      "$s = {K_p} J^T (x_d-x) - K_v \\dot{q}$\n",
      "\n",
      "Let's try that (with no gravity, to simplify life)\n"
     ]
    },
    {
     "cell_type": "code",
     "collapsed": false,
     "input": [
      "arm = Arm(gravity=0)\n",
      "runner = Runner('PD control with adaptive dynamics', dt=0.0001)\n",
      "control = Control(K_p=500, K_v=0.5, L_k=0, L_d=0, mode='p2p', \n",
      "                  tau_d=0.02, theta_k = Control.ideal_theta_k)\n",
      "runner.run(arm, control)\n",
      "runner.show()"
     ],
     "language": "python",
     "metadata": {},
     "outputs": [],
     "prompt_number": 35
    },
    {
     "cell_type": "markdown",
     "metadata": {},
     "source": [
      "Not bad.  Now let's do it with gravity and the adaptive dynamics."
     ]
    },
    {
     "cell_type": "code",
     "collapsed": false,
     "input": [
      "arm = Arm(gravity=1)\n",
      "runner = Runner('PD control with adaptive dynamics', dt=0.0001)\n",
      "control = Control(K_p=500, K_v=0.5, L_k=0, L_d=1, mode='p2p', \n",
      "                  tau_d=0.2, theta_k = Control.ideal_theta_k)\n",
      "runner.run(arm, control)\n",
      "runner.show()"
     ],
     "language": "python",
     "metadata": {},
     "outputs": [],
     "prompt_number": 42
    },
    {
     "cell_type": "markdown",
     "metadata": {},
     "source": [
      "## Step 8: Learning the kinematics\n",
      "\n",
      "Okay, so that's great if we know $J$.  But what if we don't? \n",
      "\n",
      "Well, what if we know the form of $J$ but not the constants?  Here's one way to break it down:\n",
      "\n",
      "$ \\dot{x} = J(q,\\theta_k)\\dot{q} = Y_k(q, \\dot{q})\\theta_k  $\n",
      "\n",
      "$ Y_k = \\begin{bmatrix} -sin(q_1)\\dot{q}_1 && -sin(q_1 + q_2)(\\dot{q}_1 + \\dot{q}_2) && 0 && 0 \\\\\\\n",
      "0 && 0 && cos(q_1)\\dot{q}_1 && cos(q_1 + q_2)(\\dot{q}_1 + \\dot{q}_2) \\end{bmatrix} $\n",
      "\n",
      "$ \\theta_k = \\begin{bmatrix} l_1 \\\\\\ l_2 \\\\\\ l_1 \\\\\\ l_2 \\end{bmatrix} $\n",
      "\n",
      "rearranging, this gives\n",
      "\n",
      "$ J(q,\\theta_k) = \\begin{bmatrix}\n",
      "-sin(q_1)\\theta_{k1}-sin(q_1+q_2)\\theta_{k2}   && -sin(q_1+q_2)\\theta_{k2} \\\\\\\n",
      " cos(q_1)\\theta_{k3}+cos(q_1+q_2)\\theta_{k4}   &&  cos(q_1+q_2)\\theta_{k4}  \n",
      "\\end{bmatrix} $\n",
      "\n",
      "Why are we doing it this way?  Because this has a nice learning rule for $\\theta_k$.\n",
      "\n",
      "$ \\Delta{\\theta}_k = L_k Y_k^T K_p (x_d - x) $\n"
     ]
    },
    {
     "cell_type": "code",
     "collapsed": false,
     "input": [
      "arm = Arm(gravity=0)\n",
      "runner = Runner('PD control with adaptive dynamics', dt=0.0001)\n",
      "control = Control(K_p=500, K_v=0.5, L_k=0.0001, L_d=0, mode='p2p', \n",
      "                  tau_d=0.02)\n",
      "runner.run(arm, control)\n",
      "runner.show()"
     ],
     "language": "python",
     "metadata": {},
     "outputs": [],
     "prompt_number": 37
    },
    {
     "cell_type": "markdown",
     "metadata": {},
     "source": [
      "Not bad.  Let's have it learn the dynamics too."
     ]
    },
    {
     "cell_type": "code",
     "collapsed": false,
     "input": [
      "arm = Arm(gravity=1)\n",
      "runner = Runner('PD control with adaptive dynamics', dt=0.0001)\n",
      "control = Control(K_p=500, K_v=0.5, L_k=0.0001, L_d=1, mode='p2p', \n",
      "                  tau_d=0.02)\n",
      "runner.run(arm, control)\n",
      "runner.show()"
     ],
     "language": "python",
     "metadata": {},
     "outputs": [],
     "prompt_number": 38
    },
    {
     "cell_type": "markdown",
     "metadata": {},
     "source": [
      "And with neurons to do the dynamics"
     ]
    },
    {
     "cell_type": "code",
     "collapsed": false,
     "input": [
      "arm = Arm(gravity=1)\n",
      "runner = Runner('PD control with adaptive dynamics', dt=0.0001)\n",
      "control = Control(K_p=500, K_v=0.5, L_k=0.0001, L_d=1, mode='p2p', \n",
      "                  tau_d=0.02, neurons_d=200)\n",
      "runner.run(arm, control)\n",
      "runner.show()"
     ],
     "language": "python",
     "metadata": {},
     "outputs": [],
     "prompt_number": 41
    },
    {
     "cell_type": "markdown",
     "metadata": {},
     "source": [
      "## Where do we go from here?\n",
      "\n",
      "This is pretty good, but we're still restricted to a particular form for the Jacobian.  It'd be very nice to generalize past that.\n",
      "\n",
      "It's not as strightforward as the dynamics case, since we need both $J$ and $Y_k$:\n",
      "\n",
      "$s = {K_p} J^T (x_d-x) - K_v \\dot{q}$\n",
      "\n",
      "\n",
      "$ \\dot{x} = J(q,\\theta_k)\\dot{q} = Y_k(q, \\dot{q})\\theta_k  $\n",
      "\n",
      "$ Y_k = \\begin{bmatrix} -sin(q_1)\\dot{q}_1 && -sin(q_1 + q_2)(\\dot{q}_1 + \\dot{q}_2) && 0 && 0 \\\\\\\n",
      "0 && 0 && cos(q_1)\\dot{q}_1 && cos(q_1 + q_2)(\\dot{q}_1 + \\dot{q}_2) \\end{bmatrix} $\n",
      "\n",
      "$ \\theta_k = \\begin{bmatrix} l_1 \\\\\\ l_2 \\\\\\ l_1 \\\\\\ l_2 \\end{bmatrix} $\n",
      "\n",
      "$ J(q,\\theta_k) = \\begin{bmatrix}\n",
      "-sin(q_1)\\theta_{k1}-sin(q_1+q_2)\\theta_{k2}   && -sin(q_1+q_2)\\theta_{k2} \\\\\\\n",
      " cos(q_1)\\theta_{k3}+cos(q_1+q_2)\\theta_{k4}   &&  cos(q_1+q_2)\\theta_{k4}  \n",
      "\\end{bmatrix} $\n",
      "\n",
      "$ \\Delta{\\theta}_k = L_k Y_k^T K_p (x_d - x) $\n",
      "\n",
      "So we need to do some reorganizing.  \n",
      "\n",
      "\n",
      "\n",
      "\n",
      "\n",
      "\n",
      "    \n",
      "    "
     ]
    },
    {
     "cell_type": "markdown",
     "metadata": {},
     "source": [
      "To do this, pull $\\dot{q}$ out of $Y_k$\n",
      "\n",
      "$$\n",
      "Y_k = Z_0 \\dot{q}_0 + Z_1 \\dot{q}_1\n",
      "$$\n",
      "\n",
      "$ Z_0 = \\begin{bmatrix} -sin(q_1) && -sin(q_1 + q_2) && 0 && 0 \\\\\\\n",
      "0 && 0 && cos(q_1) && cos(q_1 + q_2) \\end{bmatrix} $\n",
      "\n",
      "$ Z_1 = \\begin{bmatrix} 0 && -sin(q_1 + q_2) && 0 && 0 \\\\\\\n",
      "0 && 0 && 0 && cos(q_1 + q_2) \\end{bmatrix} $\n",
      "\n",
      "Now we have an expression for $J$\n",
      "\n",
      "$ J = Z \\theta_k = \\begin{bmatrix} Z_0 \\theta_k \\\\ Z_1 \\theta_k \\end{bmatrix} $\n",
      "\n",
      "We should now be able to just generate random functions for $Z$ and use existing learning rule.  Getting this to work is ongoing."
     ]
    },
    {
     "cell_type": "markdown",
     "metadata": {},
     "source": [
      "### An alternate approach? (i.e. making things up)\n",
      "\n",
      "As an alternate option, I've also been playing with breaking it down a different way:\n",
      "\n",
      "$ J = X \\theta_X $\n",
      "\n",
      "$ X = \\begin{bmatrix} sin(q_0) && sin(q_0+q_1) && cos(q_0) && cos(q_0+q_1) \\end{bmatrix} $\n",
      "\n",
      "$$\n",
      "\\theta_X = \\begin{bmatrix} \n",
      "    \\begin{bmatrix} -l_1 && 0 \\\\\\\n",
      "                    -l_2 && 0 \\\\\\ \n",
      "                    0 && l_1  \\\\\\\n",
      "                    0 && l_2 \n",
      "    \\end{bmatrix} &&\n",
      "    \\begin{bmatrix} 0 && 0 \\\\\\\n",
      "                    -l_2 && 0 \\\\\\\n",
      "                    0 && 0 \\\\\\\n",
      "                    0 && l_2 \n",
      "    \\end{bmatrix}\n",
      "\\end{bmatrix}\n",
      "$$\n",
      "\n",
      "This makes it look a lot more like neurons and decoders, but now there's more variables to learn, and we need an alternate learning rule.  This might work, but I'm just guessing here:\n",
      "\n",
      "$ \\Delta{\\theta}_k = L_k Y_k^T K_p (x_d - x) $\n",
      "\n",
      "$ \\Delta{\\theta}_{X} = L_k K_p (X \\times \\dot{q}) \\times (x_d - x) $\n",
      "\n"
     ]
    },
    {
     "cell_type": "code",
     "collapsed": false,
     "input": [
      "import control\n",
      "reload(control)\n",
      "from control import Control\n",
      "import runner\n",
      "reload(runner)\n",
      "from runner import Runner\n",
      "\n",
      "arm = Arm(gravity=1)\n",
      "runner = Runner('PD control with adaptive dynamics', dt=0.0001)\n",
      "control = Control(K_p=500, K_v=0.5, L_k=0.0001, L_d=0.02, mode='p2p', \n",
      "                  tau_d=0.02, neurons_d=200)\n",
      "runner.run(arm, control)\n",
      "runner.show()"
     ],
     "language": "python",
     "metadata": {},
     "outputs": []
    }
   ],
   "metadata": {}
  }
 ]
}